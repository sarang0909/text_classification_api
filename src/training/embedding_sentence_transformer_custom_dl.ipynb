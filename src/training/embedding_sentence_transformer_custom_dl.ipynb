{
 "cells": [
  {
   "cell_type": "code",
   "execution_count": 5,
   "metadata": {},
   "outputs": [],
   "source": [
    "import pandas as pd"
   ]
  },
  {
   "cell_type": "code",
   "execution_count": 6,
   "metadata": {},
   "outputs": [],
   "source": [
    "import os\n",
    "import random\n",
    "import numpy as np\n",
    "import torch\n",
    "\n",
    "os.environ[\"CUDA_DEVICE_ORDER\"]=\"PCI_BUS_ID\"  \n",
    "os.environ[\"CUDA_VISIBLE_DEVICES\"]=\"1\"\n",
    "device = 'cuda' if torch.cuda.is_available() else 'cpu'\n",
    "\n",
    "\n",
    "torch.manual_seed(0)\n",
    "random.seed(0)\n",
    "np.random.seed(0)"
   ]
  },
  {
   "cell_type": "code",
   "execution_count": 7,
   "metadata": {},
   "outputs": [],
   "source": [
    "df = pd.read_csv('../../data/100_sentiment_analysis_sentences.csv')"
   ]
  },
  {
   "cell_type": "code",
   "execution_count": 8,
   "metadata": {},
   "outputs": [
    {
     "name": "stdout",
     "output_type": "stream",
     "text": [
      "<class 'pandas.core.frame.DataFrame'>\n",
      "RangeIndex: 100 entries, 0 to 99\n",
      "Data columns (total 2 columns):\n",
      " #   Column  Non-Null Count  Dtype \n",
      "---  ------  --------------  ----- \n",
      " 0   text    100 non-null    object\n",
      " 1   label   100 non-null    object\n",
      "dtypes: object(2)\n",
      "memory usage: 1.7+ KB\n"
     ]
    }
   ],
   "source": [
    "df.info()"
   ]
  },
  {
   "cell_type": "code",
   "execution_count": 9,
   "metadata": {},
   "outputs": [],
   "source": [
    "# replacing values\n",
    "df['label'].replace(['POSITIVE', 'NEGATIVE', 'NEUTRAL'],\n",
    "                        [2, 0,1], inplace=True)"
   ]
  },
  {
   "cell_type": "code",
   "execution_count": 10,
   "metadata": {},
   "outputs": [],
   "source": [
    "from sentence_transformers import SentenceTransformer"
   ]
  },
  {
   "cell_type": "code",
   "execution_count": 11,
   "metadata": {},
   "outputs": [],
   "source": [
    "encoder_model = SentenceTransformer('all-MiniLM-L6-v2')\n",
    "\n",
    "#Our sentences we like to encode\n",
    "sentences = list(df['text'])\n",
    "\n",
    "#Sentences are encoded by calling model.encode()\n",
    "sentence_embeddings = encoder_model.encode(sentences)"
   ]
  },
  {
   "cell_type": "code",
   "execution_count": 12,
   "metadata": {},
   "outputs": [
    {
     "data": {
      "text/plain": [
       "(100, 384)"
      ]
     },
     "execution_count": 12,
     "metadata": {},
     "output_type": "execute_result"
    }
   ],
   "source": [
    "sentence_embeddings.shape"
   ]
  },
  {
   "cell_type": "code",
   "execution_count": 13,
   "metadata": {},
   "outputs": [
    {
     "data": {
      "text/plain": [
       "numpy.ndarray"
      ]
     },
     "execution_count": 13,
     "metadata": {},
     "output_type": "execute_result"
    }
   ],
   "source": [
    "type(sentence_embeddings)"
   ]
  },
  {
   "cell_type": "code",
   "execution_count": 14,
   "metadata": {},
   "outputs": [],
   "source": [
    "#Dataset preparation\n",
    "from torch.utils.data import Dataset, TensorDataset,DataLoader\n",
    "from sklearn.model_selection import train_test_split\n",
    "\n",
    "\n",
    "X = torch.tensor(sentence_embeddings)\n",
    "y = torch.tensor(np.array(df.label.values))\n",
    "\n",
    "X_train, X_val, y_train, y_val = train_test_split(X, y, test_size=0.2,stratify=y)\n",
    "\n",
    "train_data = TensorDataset(X_train, y_train)\n",
    "\n",
    "train_loader = DataLoader(train_data,batch_size=16, shuffle=True)"
   ]
  },
  {
   "cell_type": "code",
   "execution_count": 15,
   "metadata": {},
   "outputs": [
    {
     "data": {
      "text/plain": [
       "torch.Tensor"
      ]
     },
     "execution_count": 15,
     "metadata": {},
     "output_type": "execute_result"
    }
   ],
   "source": [
    "#sentence_embeddings[0]\n",
    "type(torch.tensor(sentence_embeddings)[0])"
   ]
  },
  {
   "cell_type": "code",
   "execution_count": 16,
   "metadata": {},
   "outputs": [
    {
     "data": {
      "text/plain": [
       "torch.Size([80])"
      ]
     },
     "execution_count": 16,
     "metadata": {},
     "output_type": "execute_result"
    }
   ],
   "source": [
    "y_train.shape"
   ]
  },
  {
   "cell_type": "code",
   "execution_count": 17,
   "metadata": {},
   "outputs": [
    {
     "data": {
      "text/plain": [
       "torch.Size([80, 384])"
      ]
     },
     "execution_count": 17,
     "metadata": {},
     "output_type": "execute_result"
    }
   ],
   "source": [
    "X_train.shape"
   ]
  },
  {
   "cell_type": "code",
   "execution_count": 20,
   "metadata": {},
   "outputs": [],
   "source": [
    "class Network(torch.nn.Module):\n",
    "    def __init__(self,vector_size,hidden_units,num_classes): \n",
    "      super().__init__()\n",
    "      #First fully connected layer\n",
    "      self.fc1 = torch.nn.Linear(vector_size,hidden_units)\n",
    "      #Second fully connected layer\n",
    "      self.fc2 = torch.nn.Linear(hidden_units,num_classes)\n",
    "      #Final output of softmax function      \n",
    "      self.output = torch.nn.Softmax()\n",
    "    def forward(self,x):\n",
    "      fc1 = self.fc1(x)\n",
    "      fc2 = self.fc2(fc1)\n",
    "      output = self.output(fc2)\n",
    "      #return output[:, -1]\n",
    "      return output"
   ]
  },
  {
   "cell_type": "code",
   "execution_count": 21,
   "metadata": {},
   "outputs": [
    {
     "name": "stdout",
     "output_type": "stream",
     "text": [
      "Network(\n",
      "  (fc1): Linear(in_features=384, out_features=4, bias=True)\n",
      "  (fc2): Linear(in_features=4, out_features=3, bias=True)\n",
      "  (output): Softmax(dim=None)\n",
      ")\n",
      "After 0 epoch training loss is 1.1138381958007812\n",
      "After 1 epoch training loss is 1.092646837234497\n",
      "After 2 epoch training loss is 1.0765480995178223\n",
      "After 3 epoch training loss is 1.0851796865463257\n",
      "After 4 epoch training loss is 1.1110912561416626\n"
     ]
    },
    {
     "name": "stderr",
     "output_type": "stream",
     "text": [
      "C:\\Users\\metes\\AppData\\Local\\Temp\\ipykernel_40008\\2920850770.py:13: UserWarning: Implicit dimension choice for softmax has been deprecated. Change the call to include dim=X as an argument.\n",
      "  output = self.output(fc2)\n"
     ]
    }
   ],
   "source": [
    "NUM_EPOCHS = 5\n",
    "VECTOR_SIZE = X.shape[1]\n",
    "HIDDEN_UNITS = 4\n",
    "OUT_CLASSES = 3\n",
    "LEARNING_RATE = 0.001\n",
    "#Initialize model\n",
    "custom_model = Network(VECTOR_SIZE,HIDDEN_UNITS,OUT_CLASSES)\n",
    "print(custom_model)\n",
    "#Initialize optimizer\n",
    "optimizer =torch.optim.SGD(custom_model.parameters(), lr=LEARNING_RATE)\n",
    "#Initialize loss function\n",
    "loss_fun = torch.nn.CrossEntropyLoss()\n",
    "for i in range(NUM_EPOCHS):\n",
    "   for x_batch,y_batch in train_loader:\n",
    "       custom_model.train()\n",
    "       y_pred = custom_model(x_batch)\n",
    "       #print(y_pred)\n",
    "       loss = loss_fun(y_pred,y_batch)\n",
    "       loss.backward()\n",
    "       optimizer.step()\n",
    "       optimizer.zero_grad()\n",
    "   print('After {} epoch training loss is {}'.format(i,loss.item()))"
   ]
  },
  {
   "cell_type": "code",
   "execution_count": 22,
   "metadata": {},
   "outputs": [],
   "source": [
    "#torch.save(custom_model, \"../models/embedding_sentence_transformer_custom_dl\")\n",
    "torch.save(custom_model.state_dict(), \"../models/embedding_sentence_transformer_custom_dl/model.pth\")"
   ]
  },
  {
   "cell_type": "code",
   "execution_count": 23,
   "metadata": {},
   "outputs": [
    {
     "data": {
      "text/plain": [
       "<All keys matched successfully>"
      ]
     },
     "execution_count": 23,
     "metadata": {},
     "output_type": "execute_result"
    }
   ],
   "source": [
    "#saved_model = torch.load(\"../models/embedding_sentence_transformer_custom_dl\")\n",
    "saved_model = Network(384,4,3)\n",
    "saved_model.load_state_dict(torch.load(\"../models/embedding_sentence_transformer_custom_dl/model.pth\"))\n"
   ]
  },
  {
   "cell_type": "code",
   "execution_count": 24,
   "metadata": {},
   "outputs": [
    {
     "name": "stdout",
     "output_type": "stream",
     "text": [
      "tensor([[0.3432, 0.3779, 0.2789]], grad_fn=<SoftmaxBackward0>)\n",
      "1\n"
     ]
    },
    {
     "name": "stderr",
     "output_type": "stream",
     "text": [
      "C:\\Users\\metes\\AppData\\Local\\Temp\\ipykernel_40008\\2920850770.py:13: UserWarning: Implicit dimension choice for softmax has been deprecated. Change the call to include dim=X as an argument.\n",
      "  output = self.output(fc2)\n"
     ]
    }
   ],
   "source": [
    "from sentence_transformers import SentenceTransformer\n",
    "sentence_embeddings = torch.tensor(SentenceTransformer('all-MiniLM-L6-v2').encode(['test_input'])) \n",
    "saved_model.eval()\n",
    "outputs = saved_model(sentence_embeddings)\n",
    "\n",
    "print(outputs)\n",
    "predicted_class_id = outputs.argmax().item()\n",
    "print(predicted_class_id)"
   ]
  },
  {
   "cell_type": "code",
   "execution_count": null,
   "metadata": {},
   "outputs": [],
   "source": []
  }
 ],
 "metadata": {
  "kernelspec": {
   "display_name": "Python 3.8.13 ('sentiment_analysis_api')",
   "language": "python",
   "name": "python3"
  },
  "language_info": {
   "codemirror_mode": {
    "name": "ipython",
    "version": 3
   },
   "file_extension": ".py",
   "mimetype": "text/x-python",
   "name": "python",
   "nbconvert_exporter": "python",
   "pygments_lexer": "ipython3",
   "version": "3.8.13"
  },
  "orig_nbformat": 4,
  "vscode": {
   "interpreter": {
    "hash": "efb0b56b023af68850f7e8be89ed314f1b3967a8a73a058021998b0dc2fde313"
   }
  }
 },
 "nbformat": 4,
 "nbformat_minor": 2
}
