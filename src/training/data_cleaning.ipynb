{
 "cells": [
  {
   "cell_type": "code",
   "execution_count": 41,
   "metadata": {},
   "outputs": [
    {
     "name": "stderr",
     "output_type": "stream",
     "text": [
      "[nltk_data] Downloading package averaged_perceptron_tagger to\n",
      "[nltk_data]     C:\\Users\\metes\\AppData\\Roaming\\nltk_data...\n",
      "[nltk_data]   Package averaged_perceptron_tagger is already up-to-\n",
      "[nltk_data]       date!\n",
      "[nltk_data] Downloading package stopwords to\n",
      "[nltk_data]     C:\\Users\\metes\\AppData\\Roaming\\nltk_data...\n",
      "[nltk_data]   Package stopwords is already up-to-date!\n"
     ]
    }
   ],
   "source": [
    "import re\n",
    "import string \n",
    "from nltk import sent_tokenize\n",
    "from nltk.tokenize import word_tokenize\n",
    "from nltk.stem.porter import PorterStemmer\n",
    "from nltk.stem import WordNetLemmatizer\n",
    "\n",
    "#NLTK POS tagger\n",
    "import nltk\n",
    "nltk.download('averaged_perceptron_tagger')\n",
    "\n",
    "#intialize stopwords\n",
    "import nltk.corpus\n",
    "nltk.download('stopwords')\n",
    "from nltk.corpus import stopwords\n",
    "from html.parser import HTMLParser\n",
    "import html\n",
    "\n",
    "from autocorrect import Speller\n",
    "from langdetect import detect\n",
    "import itertools"
   ]
  },
  {
   "cell_type": "code",
   "execution_count": 36,
   "metadata": {},
   "outputs": [],
   "source": [
    "text = \" #Tesla is reevaluating the wy it sels electric cars in China? its second-largest market,Beijing where traffic plunged during COVID restrictions. Francis Maguire reports. \"\n"
   ]
  },
  {
   "cell_type": "code",
   "execution_count": 7,
   "metadata": {},
   "outputs": [
    {
     "data": {
      "text/plain": [
       "['Tesla is reevaluating the way it sells electric cars in China.',\n",
       " 'its second-largest market,Beijing where traffic plunged during COVID restrictions.',\n",
       " 'Francis Maguire reports.']"
      ]
     },
     "execution_count": 7,
     "metadata": {},
     "output_type": "execute_result"
    }
   ],
   "source": [
    "def split_into_sentences(text):\n",
    "   return sent_tokenize(text)\n",
    "\n",
    "split_into_sentences(text)"
   ]
  },
  {
   "cell_type": "code",
   "execution_count": 8,
   "metadata": {},
   "outputs": [
    {
     "data": {
      "text/plain": [
       "['Tesla',\n",
       " 'is',\n",
       " 'reevaluating',\n",
       " 'the',\n",
       " 'way',\n",
       " 'it',\n",
       " 'sells',\n",
       " 'electric',\n",
       " 'cars',\n",
       " 'in',\n",
       " 'China',\n",
       " '.',\n",
       " 'its',\n",
       " 'second-largest',\n",
       " 'market',\n",
       " ',',\n",
       " 'Beijing',\n",
       " 'where',\n",
       " 'traffic',\n",
       " 'plunged',\n",
       " 'during',\n",
       " 'COVID',\n",
       " 'restrictions',\n",
       " '.',\n",
       " 'Francis',\n",
       " 'Maguire',\n",
       " 'reports',\n",
       " '.']"
      ]
     },
     "execution_count": 8,
     "metadata": {},
     "output_type": "execute_result"
    }
   ],
   "source": [
    "def split_into_words(text):\n",
    "   return word_tokenize(text)\n",
    "split_into_words(text)"
   ]
  },
  {
   "cell_type": "code",
   "execution_count": 9,
   "metadata": {},
   "outputs": [
    {
     "data": {
      "text/plain": [
       "'tesla is reevaluating the way it sells electric cars in china. its second-largest market,beijing where traffic plunged during covid restrictions. francis maguire reports.'"
      ]
     },
     "execution_count": 9,
     "metadata": {},
     "output_type": "execute_result"
    }
   ],
   "source": [
    "def lower_case_text(text):\n",
    "    return text.lower()\n",
    "\n",
    "lower_case_text(text)"
   ]
  },
  {
   "cell_type": "code",
   "execution_count": 13,
   "metadata": {},
   "outputs": [
    {
     "data": {
      "text/plain": [
       "'Tesla is reevaluating the way it sells electric cars in China its second-largest market Beijing where traffic plunged during COVID restrictions Francis Maguire reports'"
      ]
     },
     "execution_count": 13,
     "metadata": {},
     "output_type": "execute_result"
    }
   ],
   "source": [
    "def remove_punctuation(text):\n",
    "    text = \" \".join([word for word in  word_tokenize(text) if word not in (string.punctuation)])\n",
    "    return text\n",
    "\n",
    "remove_punctuation(text)"
   ]
  },
  {
   "cell_type": "code",
   "execution_count": 16,
   "metadata": {},
   "outputs": [
    {
     "data": {
      "text/plain": [
       "'Tesla is reevaluating the way it sells electric cars in China its second largest market Beijing where traffic plunged during COVID restrictions Francis Maguire reports'"
      ]
     },
     "execution_count": 16,
     "metadata": {},
     "output_type": "execute_result"
    }
   ],
   "source": [
    "\n",
    "def remove_unicode(text):\n",
    "    text = re.sub(r\"(@\\[A-Za-z0-9]+)|([^0-9A-Za-z \\t])|(\\w+:\\/\\/\\S+)|^rt|http.+?\", \" \", text)\n",
    "     \n",
    "    return \" \".join(text.split())\n",
    "\n",
    "remove_unicode(text)"
   ]
  },
  {
   "cell_type": "code",
   "execution_count": 19,
   "metadata": {},
   "outputs": [
    {
     "data": {
      "text/plain": [
       "'Tesla is reevaluating the way it sells electric cars in China? its second-largest market,Beijing where traffic plunged during COVID restrictions. Francis Maguire reports.'"
      ]
     },
     "execution_count": 19,
     "metadata": {},
     "output_type": "execute_result"
    }
   ],
   "source": [
    "def remove_leading_trailing_whitespaces(text):\n",
    "    text = re.sub(r\"^\\s+|\\s+$\", \"\", text)\n",
    "    return text\n",
    "\n",
    "remove_leading_trailing_whitespaces(text)"
   ]
  },
  {
   "cell_type": "code",
   "execution_count": 25,
   "metadata": {},
   "outputs": [
    {
     "data": {
      "text/plain": [
       "'Tesla is reevaluating the way it sells electric cars in China? its second-largest market,Beijing where traffic plunged during COVID restrictions. Francis Maguire reports.'"
      ]
     },
     "execution_count": 25,
     "metadata": {},
     "output_type": "execute_result"
    }
   ],
   "source": [
    "def remove_duplicate_whitespaces(text):\n",
    "    return \" \".join(text.split())\n",
    "remove_duplicate_whitespaces(text)"
   ]
  },
  {
   "cell_type": "code",
   "execution_count": 26,
   "metadata": {},
   "outputs": [
    {
     "data": {
      "text/plain": [
       "'en'"
      ]
     },
     "execution_count": 26,
     "metadata": {},
     "output_type": "execute_result"
    }
   ],
   "source": [
    "def detect_language(text):\n",
    "    try:\n",
    "        language = detect(text)\n",
    "    except Exception as ex:\n",
    "        print(\"language can not be detected\")\n",
    "    return language\n",
    "\n",
    "detect_language(text)"
   ]
  },
  {
   "cell_type": "code",
   "execution_count": 29,
   "metadata": {},
   "outputs": [
    {
     "data": {
      "text/plain": [
       "' Tesla is evaluating the wy it self electric cars in China? its second-largest market,Beijing where traffic plunged during COVID restrictions. Francis Mature reports. '"
      ]
     },
     "execution_count": 29,
     "metadata": {},
     "output_type": "execute_result"
    }
   ],
   "source": [
    "def correct_grammar(text):\n",
    "    #One letter in a word should not be present more than twice in continuation\n",
    "    text = ''.join(''.join(s)[:2] for _, s in itertools.groupby(text))\n",
    "    spell_checker = Speller(lang='en')\n",
    "    text = spell_checker(text)\n",
    "    return text \n",
    "correct_grammar(text)"
   ]
  },
  {
   "cell_type": "code",
   "execution_count": 33,
   "metadata": {},
   "outputs": [
    {
     "data": {
      "text/plain": [
       "'Tesla reevaluating wy sels electric cars China ? second-largest market , Beijing traffic plunged COVID restrictions . Francis Maguire reports .'"
      ]
     },
     "execution_count": 33,
     "metadata": {},
     "output_type": "execute_result"
    }
   ],
   "source": [
    "def remove_stopwrods(text): \n",
    "    stop = stopwords.words('english')\n",
    "    text = \" \".join([word for word in word_tokenize(text) if word not in (stop)])\n",
    "    return text\n",
    "remove_stopwrods(text)"
   ]
  },
  {
   "cell_type": "code",
   "execution_count": 34,
   "metadata": {},
   "outputs": [
    {
     "data": {
      "text/plain": [
       "'tesla is reevalu the wy it sel electr car in china ? it second-largest market , beij where traffic plung dure covid restrict . franci maguir report .'"
      ]
     },
     "execution_count": 34,
     "metadata": {},
     "output_type": "execute_result"
    }
   ],
   "source": [
    "def apply_stemming(text):\n",
    "    stemmer = PorterStemmer()\n",
    "    text = \" \".join([stemmer.stem(word) for word in word_tokenize(text)])\n",
    "    return text\n",
    "\n",
    "apply_stemming(text)"
   ]
  },
  {
   "cell_type": "code",
   "execution_count": 35,
   "metadata": {},
   "outputs": [
    {
     "data": {
      "text/plain": [
       "'Tesla is reevaluating the wy it sels electric car in China ? it second-largest market , Beijing where traffic plunged during COVID restriction . Francis Maguire report .'"
      ]
     },
     "execution_count": 35,
     "metadata": {},
     "output_type": "execute_result"
    }
   ],
   "source": [
    "def apply_lammatization(text):\n",
    "    lemmatizer = WordNetLemmatizer()\n",
    "    text = \" \".join([lemmatizer.lemmatize(word) for word in word_tokenize(text)])\n",
    "    return text\n",
    "apply_lammatization(text)"
   ]
  },
  {
   "cell_type": "code",
   "execution_count": 37,
   "metadata": {},
   "outputs": [
    {
     "data": {
      "text/plain": [
       "' Tesla is reevaluating the wy it sels electric cars in China? its second-largest market,Beijing where traffic plunged during COVID restrictions. Francis Maguire reports. '"
      ]
     },
     "execution_count": 37,
     "metadata": {},
     "output_type": "execute_result"
    }
   ],
   "source": [
    "def remove_hashtags(text):\n",
    "    text = re.sub(r'#', '', text)\n",
    "    return text\n",
    "\n",
    "remove_hashtags(text)"
   ]
  },
  {
   "cell_type": "code",
   "execution_count": 42,
   "metadata": {},
   "outputs": [
    {
     "data": {
      "text/plain": [
       "' #Tesla is reevaluating the wy it sels electric cars in China? its second-largest market,Beijing where traffic plunged during COVID restrictions. Francis Maguire reports. '"
      ]
     },
     "execution_count": 42,
     "metadata": {},
     "output_type": "execute_result"
    }
   ],
   "source": [
    "def clean_html_code(text):\n",
    "    \"\"\"A Lot of HTML entities like &apos; ,&amp; ,&lt; etc can be found in most of the data available on the web.\n",
    "\n",
    "    Args:\n",
    "        text (_type_): _description_\n",
    "\n",
    "    Returns:\n",
    "        _type_: _description_\n",
    "    \"\"\"    \n",
    "    text = html.unescape(text)\n",
    "    return text\n",
    "\n",
    "clean_html_code(text)"
   ]
  },
  {
   "cell_type": "code",
   "execution_count": 43,
   "metadata": {},
   "outputs": [
    {
     "data": {
      "text/plain": [
       "' #Tesla is reevaluating the wy it sels electric cars in China? its second-largest market,Beijing where traffic plunged during COVID restrictions. Francis Maguire reports. '"
      ]
     },
     "execution_count": 43,
     "metadata": {},
     "output_type": "execute_result"
    }
   ],
   "source": [
    "def replace_contraction(text):\n",
    "    apostrophe_dict={\"'s\":\" is\",\"n't\":\" not\",\"'m\":\" am\",\"'ll\":\" will\",\n",
    "           \"'d\":\" would\",\"'ve\":\" have\",\"'re\":\" are\"}\n",
    " \n",
    "    #replace the contractions\n",
    "    for key,value in apostrophe_dict.items():\n",
    "        if key in text:\n",
    "            text=text.replace(key,value)\n",
    "    return text\n",
    "\n",
    "replace_contraction(text)"
   ]
  },
  {
   "cell_type": "code",
   "execution_count": 44,
   "metadata": {},
   "outputs": [
    {
     "data": {
      "text/plain": [
       "[('#', '#'),\n",
       " ('Tesla', 'NNP'),\n",
       " ('is', 'VBZ'),\n",
       " ('reevaluating', 'VBG'),\n",
       " ('the', 'DT'),\n",
       " ('wy', 'NN'),\n",
       " ('it', 'PRP'),\n",
       " ('sels', 'VBZ'),\n",
       " ('electric', 'JJ'),\n",
       " ('cars', 'NNS'),\n",
       " ('in', 'IN'),\n",
       " ('China', 'NNP'),\n",
       " ('?', '.'),\n",
       " ('its', 'PRP$'),\n",
       " ('second-largest', 'JJ'),\n",
       " ('market', 'NN'),\n",
       " (',', ','),\n",
       " ('Beijing', 'NNP'),\n",
       " ('where', 'WRB'),\n",
       " ('traffic', 'NN'),\n",
       " ('plunged', 'VBD'),\n",
       " ('during', 'IN'),\n",
       " ('COVID', 'NNP'),\n",
       " ('restrictions', 'NNS'),\n",
       " ('.', '.'),\n",
       " ('Francis', 'NNP'),\n",
       " ('Maguire', 'NNP'),\n",
       " ('reports', 'NNS'),\n",
       " ('.', '.')]"
      ]
     },
     "execution_count": 44,
     "metadata": {},
     "output_type": "execute_result"
    }
   ],
   "source": [
    " \n",
    "         \n",
    "\n",
    "\n",
    "\n",
    "\n",
    "\n",
    "\n",
    "\n",
    " \n",
    "\n",
    "\n",
    "\n",
    "def get_pos_tags(text):\n",
    "    tokens = nltk.word_tokenize(text)\n",
    "    pos = nltk.pos_tag(tokens)\n",
    "    return pos\n",
    "get_pos_tags(text)"
   ]
  },
  {
   "cell_type": "code",
   "execution_count": null,
   "metadata": {},
   "outputs": [],
   "source": []
  }
 ],
 "metadata": {
  "kernelspec": {
   "display_name": "Python 3.8.13 ('sentiment_analysis_api')",
   "language": "python",
   "name": "python3"
  },
  "language_info": {
   "codemirror_mode": {
    "name": "ipython",
    "version": 3
   },
   "file_extension": ".py",
   "mimetype": "text/x-python",
   "name": "python",
   "nbconvert_exporter": "python",
   "pygments_lexer": "ipython3",
   "version": "3.8.13"
  },
  "orig_nbformat": 4,
  "vscode": {
   "interpreter": {
    "hash": "efb0b56b023af68850f7e8be89ed314f1b3967a8a73a058021998b0dc2fde313"
   }
  }
 },
 "nbformat": 4,
 "nbformat_minor": 2
}
