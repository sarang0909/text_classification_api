{
 "cells": [
  {
   "cell_type": "code",
   "execution_count": 3,
   "metadata": {},
   "outputs": [],
   "source": [
    "import pandas as pd\n",
    "from sklearn.feature_extraction.text import TfidfVectorizer"
   ]
  },
  {
   "cell_type": "code",
   "execution_count": 4,
   "metadata": {},
   "outputs": [],
   "source": [
    "df = pd.read_csv('../../data/100_sentiment_analysis_sentences.csv')"
   ]
  },
  {
   "cell_type": "code",
   "execution_count": 5,
   "metadata": {},
   "outputs": [
    {
     "name": "stdout",
     "output_type": "stream",
     "text": [
      "<class 'pandas.core.frame.DataFrame'>\n",
      "RangeIndex: 100 entries, 0 to 99\n",
      "Data columns (total 2 columns):\n",
      " #   Column  Non-Null Count  Dtype \n",
      "---  ------  --------------  ----- \n",
      " 0   text    100 non-null    object\n",
      " 1   label   100 non-null    object\n",
      "dtypes: object(2)\n",
      "memory usage: 1.7+ KB\n"
     ]
    }
   ],
   "source": [
    "df.info()"
   ]
  },
  {
   "cell_type": "code",
   "execution_count": 6,
   "metadata": {},
   "outputs": [],
   "source": [
    "# replacing values\n",
    "df['label'].replace(['POSITIVE', 'NEGATIVE', 'NEUTRAL'],\n",
    "                        [2, 0,1], inplace=True)"
   ]
  },
  {
   "cell_type": "code",
   "execution_count": 7,
   "metadata": {},
   "outputs": [
    {
     "name": "stdout",
     "output_type": "stream",
     "text": [
      "Each of the 100 label is represented by 61 features (TF-IDF score of unigrams and bigrams)\n"
     ]
    }
   ],
   "source": [
    "tfidf = TfidfVectorizer(sublinear_tf=True, min_df=5,\n",
    "                        ngram_range=(1, 2), \n",
    "                        stop_words='english')\n",
    "\n",
    "# We transform each complaint into a vector\n",
    "features = tfidf.fit_transform(df.text)\n",
    "\n",
    "labels = df.label\n",
    "\n",
    "print(\"Each of the %d label is represented by %d features (TF-IDF score of unigrams and bigrams)\" %(features.shape))"
   ]
  },
  {
   "cell_type": "code",
   "execution_count": 8,
   "metadata": {},
   "outputs": [
    {
     "name": "stdout",
     "output_type": "stream",
     "text": [
      "<class 'pandas.core.frame.DataFrame'>\n",
      "RangeIndex: 100 entries, 0 to 99\n",
      "Data columns (total 62 columns):\n",
      " #   Column             Non-Null Count  Dtype  \n",
      "---  ------             --------------  -----  \n",
      " 0   2030               100 non-null    float64\n",
      " 1   2035               100 non-null    float64\n",
      " 2   access             100 non-null    float64\n",
      " 3   access reuters     100 non-null    float64\n",
      " 4   agency             100 non-null    float64\n",
      " 5   battery            100 non-null    float64\n",
      " 6   black              100 non-null    float64\n",
      " 7   brand              100 non-null    float64\n",
      " 8   california         100 non-null    float64\n",
      " 9   car                100 non-null    float64\n",
      " 10  carb               100 non-null    float64\n",
      " 11  com                100 non-null    float64\n",
      " 12  com register       100 non-null    float64\n",
      " 13  company            100 non-null    float64\n",
      " 14  department         100 non-null    float64\n",
      " 15  did                100 non-null    float64\n",
      " 16  electric           100 non-null    float64\n",
      " 17  emission           100 non-null    float64\n",
      " 18  emissions          100 non-null    float64\n",
      " 19  federal            100 non-null    float64\n",
      " 20  free               100 non-null    float64\n",
      " 21  free unlimited     100 non-null    float64\n",
      " 22  jeep               100 non-null    float64\n",
      " 23  lawsuit            100 non-null    float64\n",
      " 24  lithium            100 non-null    float64\n",
      " 25  meunier            100 non-null    float64\n",
      " 26  meunier said       100 non-null    float64\n",
      " 27  musk               100 non-null    float64\n",
      " 28  new                100 non-null    float64\n",
      " 29  plan               100 non-null    float64\n",
      " 30  plug               100 non-null    float64\n",
      " 31  principles         100 non-null    float64\n",
      " 32  register           100 non-null    float64\n",
      " 33  register free      100 non-null    float64\n",
      " 34  requirements       100 non-null    float64\n",
      " 35  reuters            100 non-null    float64\n",
      " 36  reuters com        100 non-null    float64\n",
      " 37  reuters trust      100 non-null    float64\n",
      " 38  rules              100 non-null    float64\n",
      " 39  said               100 non-null    float64\n",
      " 40  sales              100 non-null    float64\n",
      " 41  seen               100 non-null    float64\n",
      " 42  set                100 non-null    float64\n",
      " 43  standards          100 non-null    float64\n",
      " 44  standards thomson  100 non-null    float64\n",
      " 45  state              100 non-null    float64\n",
      " 46  states             100 non-null    float64\n",
      " 47  supply             100 non-null    float64\n",
      " 48  tesla              100 non-null    float64\n",
      " 49  thomson            100 non-null    float64\n",
      " 50  thomson reuters    100 non-null    float64\n",
      " 51  thursday           100 non-null    float64\n",
      " 52  trust              100 non-null    float64\n",
      " 53  trust principles   100 non-null    float64\n",
      " 54  unlimited          100 non-null    float64\n",
      " 55  unlimited access   100 non-null    float64\n",
      " 56  vehicle            100 non-null    float64\n",
      " 57  vehicles           100 non-null    float64\n",
      " 58  world              100 non-null    float64\n",
      " 59  zero               100 non-null    float64\n",
      " 60  zero emission      100 non-null    float64\n",
      " 61  label              100 non-null    int64  \n",
      "dtypes: float64(61), int64(1)\n",
      "memory usage: 48.6 KB\n"
     ]
    }
   ],
   "source": [
    "df_tfidf = pd.DataFrame(features.toarray(), columns=tfidf.get_feature_names(), index=df.index)\n",
    "df_tfidf['label'] = df['label']\n",
    "df_tfidf.head()\n",
    "df_tfidf.info()"
   ]
  },
  {
   "cell_type": "code",
   "execution_count": 9,
   "metadata": {},
   "outputs": [
    {
     "data": {
      "text/plain": [
       "(100, 61)"
      ]
     },
     "execution_count": 9,
     "metadata": {},
     "output_type": "execute_result"
    }
   ],
   "source": [
    "features.shape"
   ]
  },
  {
   "cell_type": "code",
   "execution_count": 10,
   "metadata": {},
   "outputs": [],
   "source": [
    "from tensorflow.keras import layers\n",
    "from tensorflow.keras.models import Sequential\n",
    "from tensorflow.keras.layers import Dense,Bidirectional,Dropout,LSTM"
   ]
  },
  {
   "cell_type": "code",
   "execution_count": 11,
   "metadata": {},
   "outputs": [],
   "source": [
    "# define the keras model\n",
    "model = Sequential()\n",
    "model.add(Dense(12, input_shape=(features.shape[1],), activation='relu'))\n",
    "model.add(Dense(8, activation='relu'))\n",
    "model.add(Dense(3, activation='softmax'))\n",
    "# compile the keras model\n",
    "model.compile(loss='sparse_categorical_crossentropy', optimizer='adam', metrics=['accuracy'])\n"
   ]
  },
  {
   "cell_type": "code",
   "execution_count": 12,
   "metadata": {},
   "outputs": [
    {
     "name": "stdout",
     "output_type": "stream",
     "text": [
      "Model: \"sequential_1\"\n",
      "_________________________________________________________________\n",
      " Layer (type)                Output Shape              Param #   \n",
      "=================================================================\n",
      " dense (Dense)               (None, 12)                744       \n",
      "                                                                 \n",
      " dense_1 (Dense)             (None, 8)                 104       \n",
      "                                                                 \n",
      " dense_2 (Dense)             (None, 3)                 27        \n",
      "                                                                 \n",
      "=================================================================\n",
      "Total params: 875\n",
      "Trainable params: 875\n",
      "Non-trainable params: 0\n",
      "_________________________________________________________________\n"
     ]
    }
   ],
   "source": [
    "model.summary()"
   ]
  },
  {
   "cell_type": "code",
   "execution_count": 13,
   "metadata": {},
   "outputs": [
    {
     "data": {
      "text/plain": [
       "scipy.sparse._csr.csr_matrix"
      ]
     },
     "execution_count": 13,
     "metadata": {},
     "output_type": "execute_result"
    }
   ],
   "source": [
    "type(features)"
   ]
  },
  {
   "cell_type": "code",
   "execution_count": 14,
   "metadata": {},
   "outputs": [
    {
     "name": "stdout",
     "output_type": "stream",
     "text": [
      "Epoch 1/10\n",
      "10/10 [==============================] - 1s 3ms/step - loss: 1.1067 - accuracy: 0.2600\n",
      "Epoch 2/10\n",
      "10/10 [==============================] - 0s 3ms/step - loss: 1.1005 - accuracy: 0.2800\n",
      "Epoch 3/10\n",
      "10/10 [==============================] - 0s 3ms/step - loss: 1.0954 - accuracy: 0.3000\n",
      "Epoch 4/10\n",
      "10/10 [==============================] - 0s 2ms/step - loss: 1.0903 - accuracy: 0.3600\n",
      "Epoch 5/10\n",
      "10/10 [==============================] - 0s 3ms/step - loss: 1.0857 - accuracy: 0.4200\n",
      "Epoch 6/10\n",
      "10/10 [==============================] - 0s 3ms/step - loss: 1.0809 - accuracy: 0.4400\n",
      "Epoch 7/10\n",
      "10/10 [==============================] - 0s 3ms/step - loss: 1.0756 - accuracy: 0.4900\n",
      "Epoch 8/10\n",
      "10/10 [==============================] - 0s 3ms/step - loss: 1.0709 - accuracy: 0.5000\n",
      "Epoch 9/10\n",
      "10/10 [==============================] - 0s 4ms/step - loss: 1.0655 - accuracy: 0.5300\n",
      "Epoch 10/10\n",
      "10/10 [==============================] - 0s 3ms/step - loss: 1.0597 - accuracy: 0.5700\n",
      "4/4 [==============================] - 0s 2ms/step - loss: 1.0555 - accuracy: 0.5900\n",
      "Accuracy: 59.00\n"
     ]
    }
   ],
   "source": [
    "# fit the keras model on the dataset\n",
    "model.fit(features.toarray(), labels, epochs=10, batch_size=10)\n",
    "# evaluate the keras model\n",
    "_, accuracy = model.evaluate(features.toarray(), labels)\n",
    "print('Accuracy: %.2f' % (accuracy*100))"
   ]
  },
  {
   "cell_type": "code",
   "execution_count": 15,
   "metadata": {},
   "outputs": [
    {
     "name": "stdout",
     "output_type": "stream",
     "text": [
      "1/1 [==============================] - 0s 129ms/step\n"
     ]
    },
    {
     "data": {
      "text/plain": [
       "array([[0.3192676 , 0.30794823, 0.37278417]], dtype=float32)"
      ]
     },
     "execution_count": 15,
     "metadata": {},
     "output_type": "execute_result"
    }
   ],
   "source": [
    "model.predict(features[0].toarray())"
   ]
  },
  {
   "cell_type": "code",
   "execution_count": 16,
   "metadata": {},
   "outputs": [
    {
     "data": {
      "text/plain": [
       "array([[0.        , 0.        , 0.        , 0.        , 0.        ,\n",
       "        0.        , 0.        , 0.        , 0.        , 0.        ,\n",
       "        0.        , 0.        , 0.        , 0.        , 0.        ,\n",
       "        0.        , 0.        , 0.        , 0.        , 0.        ,\n",
       "        0.        , 0.        , 0.        , 0.        , 0.        ,\n",
       "        0.        , 0.        , 0.        , 0.61294011, 0.        ,\n",
       "        0.        , 0.        , 0.        , 0.        , 0.        ,\n",
       "        0.        , 0.        , 0.        , 0.        , 0.        ,\n",
       "        0.        , 0.70746152, 0.        , 0.        , 0.        ,\n",
       "        0.        , 0.        , 0.        , 0.35185596, 0.        ,\n",
       "        0.        , 0.        , 0.        , 0.        , 0.        ,\n",
       "        0.        , 0.        , 0.        , 0.        , 0.        ,\n",
       "        0.        ]])"
      ]
     },
     "execution_count": 16,
     "metadata": {},
     "output_type": "execute_result"
    }
   ],
   "source": [
    "features[0].toarray()"
   ]
  },
  {
   "cell_type": "code",
   "execution_count": 17,
   "metadata": {},
   "outputs": [
    {
     "name": "stdout",
     "output_type": "stream",
     "text": [
      "INFO:tensorflow:Assets written to: ../models/tfidf_custom_dl_keras\\assets\n"
     ]
    }
   ],
   "source": [
    "import pickle\n",
    "model.save(\"../models/tfidf_custom_dl_keras\")\n",
    "pickle.dump(tfidf, open(\"../models/tfidf_vectorizer_custom_dl_keras.pkl\", \"wb\"))"
   ]
  },
  {
   "cell_type": "code",
   "execution_count": 18,
   "metadata": {},
   "outputs": [],
   "source": [
    "import keras\n",
    "saved_model = keras.models.load_model(\"../models/tfidf_custom_dl_keras\")\n",
    "saved_tfidf =  pickle.load(open('../models/tfidf_vectorizer_custom_dl_keras.pkl', 'rb'))"
   ]
  },
  {
   "cell_type": "code",
   "execution_count": 19,
   "metadata": {},
   "outputs": [
    {
     "name": "stdout",
     "output_type": "stream",
     "text": [
      "1/1 [==============================] - 0s 112ms/step\n",
      "[[0.32634345 0.33264267 0.34101385]]\n",
      "2\n"
     ]
    }
   ],
   "source": [
    "#Inference Code\n",
    "test_input = saved_tfidf.transform([\"test_input\"]).toarray()\n",
    "new_prediction = saved_model.predict(test_input)\n",
    "print(new_prediction)\n",
    "predicted_class_id = new_prediction.argmax().item()\n",
    "print(predicted_class_id)"
   ]
  },
  {
   "cell_type": "code",
   "execution_count": null,
   "metadata": {},
   "outputs": [],
   "source": []
  },
  {
   "cell_type": "code",
   "execution_count": null,
   "metadata": {},
   "outputs": [],
   "source": []
  },
  {
   "cell_type": "code",
   "execution_count": null,
   "metadata": {},
   "outputs": [],
   "source": []
  },
  {
   "cell_type": "code",
   "execution_count": null,
   "metadata": {},
   "outputs": [],
   "source": []
  },
  {
   "cell_type": "code",
   "execution_count": null,
   "metadata": {},
   "outputs": [],
   "source": []
  },
  {
   "cell_type": "code",
   "execution_count": null,
   "metadata": {},
   "outputs": [],
   "source": []
  },
  {
   "cell_type": "code",
   "execution_count": null,
   "metadata": {},
   "outputs": [],
   "source": []
  }
 ],
 "metadata": {
  "kernelspec": {
   "display_name": "Python 3.8.13 ('text_classification_api')",
   "language": "python",
   "name": "python3"
  },
  "language_info": {
   "codemirror_mode": {
    "name": "ipython",
    "version": 3
   },
   "file_extension": ".py",
   "mimetype": "text/x-python",
   "name": "python",
   "nbconvert_exporter": "python",
   "pygments_lexer": "ipython3",
   "version": "3.8.13"
  },
  "orig_nbformat": 4,
  "vscode": {
   "interpreter": {
    "hash": "77f61ce5b7c069c1fa82066de7830792ed689d7f8716eaa4cb3d4ce54f9efd79"
   }
  }
 },
 "nbformat": 4,
 "nbformat_minor": 2
}
